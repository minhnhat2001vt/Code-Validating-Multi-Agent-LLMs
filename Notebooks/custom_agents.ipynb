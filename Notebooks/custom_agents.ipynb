{
 "cells": [
  {
   "cell_type": "markdown",
   "metadata": {},
   "source": [
    "# Search Agent"
   ]
  },
  {
   "cell_type": "code",
   "execution_count": 1,
   "metadata": {
    "colab": {
     "base_uri": "https://localhost:8080/"
    },
    "id": "tX4l_8IcA2I9",
    "outputId": "47f9806a-f4cb-4f23-96b3-de712635e3ed"
   },
   "outputs": [
    {
     "name": "stdout",
     "output_type": "stream",
     "text": [
      "Requirement already satisfied: langchain_community in /Users/macos/anaconda3/envs/DeepLearning/lib/python3.10/site-packages (0.3.9)\n",
      "Requirement already satisfied: PyYAML>=5.3 in /Users/macos/anaconda3/envs/DeepLearning/lib/python3.10/site-packages (from langchain_community) (6.0.1)\n",
      "Requirement already satisfied: SQLAlchemy<3,>=1.4 in /Users/macos/anaconda3/envs/DeepLearning/lib/python3.10/site-packages (from langchain_community) (2.0.36)\n",
      "Requirement already satisfied: aiohttp<4.0.0,>=3.8.3 in /Users/macos/anaconda3/envs/DeepLearning/lib/python3.10/site-packages (from langchain_community) (3.9.3)\n",
      "Requirement already satisfied: dataclasses-json<0.7,>=0.5.7 in /Users/macos/anaconda3/envs/DeepLearning/lib/python3.10/site-packages (from langchain_community) (0.6.7)\n",
      "Requirement already satisfied: httpx-sse<0.5.0,>=0.4.0 in /Users/macos/anaconda3/envs/DeepLearning/lib/python3.10/site-packages (from langchain_community) (0.4.0)\n",
      "Requirement already satisfied: langchain<0.4.0,>=0.3.8 in /Users/macos/anaconda3/envs/DeepLearning/lib/python3.10/site-packages (from langchain_community) (0.3.9)\n",
      "Requirement already satisfied: langchain-core<0.4.0,>=0.3.21 in /Users/macos/anaconda3/envs/DeepLearning/lib/python3.10/site-packages (from langchain_community) (0.3.21)\n",
      "Requirement already satisfied: langsmith<0.2.0,>=0.1.125 in /Users/macos/anaconda3/envs/DeepLearning/lib/python3.10/site-packages (from langchain_community) (0.1.147)\n",
      "Requirement already satisfied: numpy<2,>=1.22.4 in /Users/macos/anaconda3/envs/DeepLearning/lib/python3.10/site-packages (from langchain_community) (1.26.4)\n",
      "Requirement already satisfied: pydantic-settings<3.0.0,>=2.4.0 in /Users/macos/anaconda3/envs/DeepLearning/lib/python3.10/site-packages (from langchain_community) (2.6.1)\n",
      "Requirement already satisfied: requests<3,>=2 in /Users/macos/anaconda3/envs/DeepLearning/lib/python3.10/site-packages (from langchain_community) (2.31.0)\n",
      "Requirement already satisfied: tenacity!=8.4.0,<10,>=8.1.0 in /Users/macos/anaconda3/envs/DeepLearning/lib/python3.10/site-packages (from langchain_community) (8.4.2)\n",
      "Requirement already satisfied: aiosignal>=1.1.2 in /Users/macos/anaconda3/envs/DeepLearning/lib/python3.10/site-packages (from aiohttp<4.0.0,>=3.8.3->langchain_community) (1.3.1)\n",
      "Requirement already satisfied: attrs>=17.3.0 in /Users/macos/anaconda3/envs/DeepLearning/lib/python3.10/site-packages (from aiohttp<4.0.0,>=3.8.3->langchain_community) (23.2.0)\n",
      "Requirement already satisfied: frozenlist>=1.1.1 in /Users/macos/anaconda3/envs/DeepLearning/lib/python3.10/site-packages (from aiohttp<4.0.0,>=3.8.3->langchain_community) (1.4.1)\n",
      "Requirement already satisfied: multidict<7.0,>=4.5 in /Users/macos/anaconda3/envs/DeepLearning/lib/python3.10/site-packages (from aiohttp<4.0.0,>=3.8.3->langchain_community) (6.0.5)\n",
      "Requirement already satisfied: yarl<2.0,>=1.0 in /Users/macos/anaconda3/envs/DeepLearning/lib/python3.10/site-packages (from aiohttp<4.0.0,>=3.8.3->langchain_community) (1.9.4)\n",
      "Requirement already satisfied: async-timeout<5.0,>=4.0 in /Users/macos/anaconda3/envs/DeepLearning/lib/python3.10/site-packages (from aiohttp<4.0.0,>=3.8.3->langchain_community) (4.0.3)\n",
      "Requirement already satisfied: marshmallow<4.0.0,>=3.18.0 in /Users/macos/anaconda3/envs/DeepLearning/lib/python3.10/site-packages (from dataclasses-json<0.7,>=0.5.7->langchain_community) (3.23.1)\n",
      "Requirement already satisfied: typing-inspect<1,>=0.4.0 in /Users/macos/anaconda3/envs/DeepLearning/lib/python3.10/site-packages (from dataclasses-json<0.7,>=0.5.7->langchain_community) (0.9.0)\n",
      "Requirement already satisfied: langchain-text-splitters<0.4.0,>=0.3.0 in /Users/macos/anaconda3/envs/DeepLearning/lib/python3.10/site-packages (from langchain<0.4.0,>=0.3.8->langchain_community) (0.3.2)\n",
      "Requirement already satisfied: pydantic<3.0.0,>=2.7.4 in /Users/macos/anaconda3/envs/DeepLearning/lib/python3.10/site-packages (from langchain<0.4.0,>=0.3.8->langchain_community) (2.10.3)\n",
      "Requirement already satisfied: jsonpatch<2.0,>=1.33 in /Users/macos/anaconda3/envs/DeepLearning/lib/python3.10/site-packages (from langchain-core<0.4.0,>=0.3.21->langchain_community) (1.33)\n",
      "Requirement already satisfied: packaging<25,>=23.2 in /Users/macos/anaconda3/envs/DeepLearning/lib/python3.10/site-packages (from langchain-core<0.4.0,>=0.3.21->langchain_community) (24.0)\n",
      "Requirement already satisfied: typing-extensions>=4.7 in /Users/macos/anaconda3/envs/DeepLearning/lib/python3.10/site-packages (from langchain-core<0.4.0,>=0.3.21->langchain_community) (4.12.2)\n",
      "Requirement already satisfied: httpx<1,>=0.23.0 in /Users/macos/anaconda3/envs/DeepLearning/lib/python3.10/site-packages (from langsmith<0.2.0,>=0.1.125->langchain_community) (0.27.0)\n",
      "Requirement already satisfied: orjson<4.0.0,>=3.9.14 in /Users/macos/anaconda3/envs/DeepLearning/lib/python3.10/site-packages (from langsmith<0.2.0,>=0.1.125->langchain_community) (3.10.12)\n",
      "Requirement already satisfied: requests-toolbelt<2.0.0,>=1.0.0 in /Users/macos/anaconda3/envs/DeepLearning/lib/python3.10/site-packages (from langsmith<0.2.0,>=0.1.125->langchain_community) (1.0.0)\n",
      "Requirement already satisfied: python-dotenv>=0.21.0 in /Users/macos/anaconda3/envs/DeepLearning/lib/python3.10/site-packages (from pydantic-settings<3.0.0,>=2.4.0->langchain_community) (1.0.1)\n",
      "Requirement already satisfied: charset-normalizer<4,>=2 in /Users/macos/anaconda3/envs/DeepLearning/lib/python3.10/site-packages (from requests<3,>=2->langchain_community) (3.3.2)\n",
      "Requirement already satisfied: idna<4,>=2.5 in /Users/macos/anaconda3/envs/DeepLearning/lib/python3.10/site-packages (from requests<3,>=2->langchain_community) (3.6)\n",
      "Requirement already satisfied: urllib3<3,>=1.21.1 in /Users/macos/anaconda3/envs/DeepLearning/lib/python3.10/site-packages (from requests<3,>=2->langchain_community) (2.2.1)\n",
      "Requirement already satisfied: certifi>=2017.4.17 in /Users/macos/anaconda3/envs/DeepLearning/lib/python3.10/site-packages (from requests<3,>=2->langchain_community) (2024.7.4)\n",
      "Requirement already satisfied: greenlet!=0.4.17 in /Users/macos/anaconda3/envs/DeepLearning/lib/python3.10/site-packages (from SQLAlchemy<3,>=1.4->langchain_community) (3.1.1)\n",
      "Requirement already satisfied: anyio in /Users/macos/anaconda3/envs/DeepLearning/lib/python3.10/site-packages (from httpx<1,>=0.23.0->langsmith<0.2.0,>=0.1.125->langchain_community) (4.3.0)\n",
      "Requirement already satisfied: httpcore==1.* in /Users/macos/anaconda3/envs/DeepLearning/lib/python3.10/site-packages (from httpx<1,>=0.23.0->langsmith<0.2.0,>=0.1.125->langchain_community) (1.0.4)\n",
      "Requirement already satisfied: sniffio in /Users/macos/anaconda3/envs/DeepLearning/lib/python3.10/site-packages (from httpx<1,>=0.23.0->langsmith<0.2.0,>=0.1.125->langchain_community) (1.3.1)\n",
      "Requirement already satisfied: h11<0.15,>=0.13 in /Users/macos/anaconda3/envs/DeepLearning/lib/python3.10/site-packages (from httpcore==1.*->httpx<1,>=0.23.0->langsmith<0.2.0,>=0.1.125->langchain_community) (0.14.0)\n",
      "Requirement already satisfied: jsonpointer>=1.9 in /Users/macos/anaconda3/envs/DeepLearning/lib/python3.10/site-packages (from jsonpatch<2.0,>=1.33->langchain-core<0.4.0,>=0.3.21->langchain_community) (2.4)\n",
      "Requirement already satisfied: annotated-types>=0.6.0 in /Users/macos/anaconda3/envs/DeepLearning/lib/python3.10/site-packages (from pydantic<3.0.0,>=2.7.4->langchain<0.4.0,>=0.3.8->langchain_community) (0.6.0)\n",
      "Requirement already satisfied: pydantic-core==2.27.1 in /Users/macos/anaconda3/envs/DeepLearning/lib/python3.10/site-packages (from pydantic<3.0.0,>=2.7.4->langchain<0.4.0,>=0.3.8->langchain_community) (2.27.1)\n",
      "Requirement already satisfied: mypy-extensions>=0.3.0 in /Users/macos/anaconda3/envs/DeepLearning/lib/python3.10/site-packages (from typing-inspect<1,>=0.4.0->dataclasses-json<0.7,>=0.5.7->langchain_community) (1.0.0)\n",
      "Requirement already satisfied: exceptiongroup>=1.0.2 in /Users/macos/anaconda3/envs/DeepLearning/lib/python3.10/site-packages (from anyio->httpx<1,>=0.23.0->langsmith<0.2.0,>=0.1.125->langchain_community) (1.2.0)\n",
      "Requirement already satisfied: langchain_openai in /Users/macos/anaconda3/envs/DeepLearning/lib/python3.10/site-packages (0.2.11)\n",
      "Requirement already satisfied: langchain-core<0.4.0,>=0.3.21 in /Users/macos/anaconda3/envs/DeepLearning/lib/python3.10/site-packages (from langchain_openai) (0.3.21)\n",
      "Requirement already satisfied: openai<2.0.0,>=1.54.0 in /Users/macos/anaconda3/envs/DeepLearning/lib/python3.10/site-packages (from langchain_openai) (1.57.0)\n",
      "Requirement already satisfied: tiktoken<1,>=0.7 in /Users/macos/anaconda3/envs/DeepLearning/lib/python3.10/site-packages (from langchain_openai) (0.8.0)\n",
      "Requirement already satisfied: PyYAML>=5.3 in /Users/macos/anaconda3/envs/DeepLearning/lib/python3.10/site-packages (from langchain-core<0.4.0,>=0.3.21->langchain_openai) (6.0.1)\n",
      "Requirement already satisfied: jsonpatch<2.0,>=1.33 in /Users/macos/anaconda3/envs/DeepLearning/lib/python3.10/site-packages (from langchain-core<0.4.0,>=0.3.21->langchain_openai) (1.33)\n",
      "Requirement already satisfied: langsmith<0.2.0,>=0.1.125 in /Users/macos/anaconda3/envs/DeepLearning/lib/python3.10/site-packages (from langchain-core<0.4.0,>=0.3.21->langchain_openai) (0.1.147)\n",
      "Requirement already satisfied: packaging<25,>=23.2 in /Users/macos/anaconda3/envs/DeepLearning/lib/python3.10/site-packages (from langchain-core<0.4.0,>=0.3.21->langchain_openai) (24.0)\n",
      "Requirement already satisfied: pydantic<3.0.0,>=2.5.2 in /Users/macos/anaconda3/envs/DeepLearning/lib/python3.10/site-packages (from langchain-core<0.4.0,>=0.3.21->langchain_openai) (2.10.3)\n",
      "Requirement already satisfied: tenacity!=8.4.0,<10.0.0,>=8.1.0 in /Users/macos/anaconda3/envs/DeepLearning/lib/python3.10/site-packages (from langchain-core<0.4.0,>=0.3.21->langchain_openai) (8.4.2)\n",
      "Requirement already satisfied: typing-extensions>=4.7 in /Users/macos/anaconda3/envs/DeepLearning/lib/python3.10/site-packages (from langchain-core<0.4.0,>=0.3.21->langchain_openai) (4.12.2)\n",
      "Requirement already satisfied: anyio<5,>=3.5.0 in /Users/macos/anaconda3/envs/DeepLearning/lib/python3.10/site-packages (from openai<2.0.0,>=1.54.0->langchain_openai) (4.3.0)\n",
      "Requirement already satisfied: distro<2,>=1.7.0 in /Users/macos/anaconda3/envs/DeepLearning/lib/python3.10/site-packages (from openai<2.0.0,>=1.54.0->langchain_openai) (1.9.0)\n",
      "Requirement already satisfied: httpx<1,>=0.23.0 in /Users/macos/anaconda3/envs/DeepLearning/lib/python3.10/site-packages (from openai<2.0.0,>=1.54.0->langchain_openai) (0.27.0)\n",
      "Requirement already satisfied: jiter<1,>=0.4.0 in /Users/macos/anaconda3/envs/DeepLearning/lib/python3.10/site-packages (from openai<2.0.0,>=1.54.0->langchain_openai) (0.8.0)\n",
      "Requirement already satisfied: sniffio in /Users/macos/anaconda3/envs/DeepLearning/lib/python3.10/site-packages (from openai<2.0.0,>=1.54.0->langchain_openai) (1.3.1)\n",
      "Requirement already satisfied: tqdm>4 in /Users/macos/anaconda3/envs/DeepLearning/lib/python3.10/site-packages (from openai<2.0.0,>=1.54.0->langchain_openai) (4.66.2)\n",
      "Requirement already satisfied: regex>=2022.1.18 in /Users/macos/anaconda3/envs/DeepLearning/lib/python3.10/site-packages (from tiktoken<1,>=0.7->langchain_openai) (2023.12.25)\n",
      "Requirement already satisfied: requests>=2.26.0 in /Users/macos/anaconda3/envs/DeepLearning/lib/python3.10/site-packages (from tiktoken<1,>=0.7->langchain_openai) (2.31.0)\n",
      "Requirement already satisfied: idna>=2.8 in /Users/macos/anaconda3/envs/DeepLearning/lib/python3.10/site-packages (from anyio<5,>=3.5.0->openai<2.0.0,>=1.54.0->langchain_openai) (3.6)\n",
      "Requirement already satisfied: exceptiongroup>=1.0.2 in /Users/macos/anaconda3/envs/DeepLearning/lib/python3.10/site-packages (from anyio<5,>=3.5.0->openai<2.0.0,>=1.54.0->langchain_openai) (1.2.0)\n",
      "Requirement already satisfied: certifi in /Users/macos/anaconda3/envs/DeepLearning/lib/python3.10/site-packages (from httpx<1,>=0.23.0->openai<2.0.0,>=1.54.0->langchain_openai) (2024.7.4)\n",
      "Requirement already satisfied: httpcore==1.* in /Users/macos/anaconda3/envs/DeepLearning/lib/python3.10/site-packages (from httpx<1,>=0.23.0->openai<2.0.0,>=1.54.0->langchain_openai) (1.0.4)\n",
      "Requirement already satisfied: h11<0.15,>=0.13 in /Users/macos/anaconda3/envs/DeepLearning/lib/python3.10/site-packages (from httpcore==1.*->httpx<1,>=0.23.0->openai<2.0.0,>=1.54.0->langchain_openai) (0.14.0)\n",
      "Requirement already satisfied: jsonpointer>=1.9 in /Users/macos/anaconda3/envs/DeepLearning/lib/python3.10/site-packages (from jsonpatch<2.0,>=1.33->langchain-core<0.4.0,>=0.3.21->langchain_openai) (2.4)\n",
      "Requirement already satisfied: orjson<4.0.0,>=3.9.14 in /Users/macos/anaconda3/envs/DeepLearning/lib/python3.10/site-packages (from langsmith<0.2.0,>=0.1.125->langchain-core<0.4.0,>=0.3.21->langchain_openai) (3.10.12)\n",
      "Requirement already satisfied: requests-toolbelt<2.0.0,>=1.0.0 in /Users/macos/anaconda3/envs/DeepLearning/lib/python3.10/site-packages (from langsmith<0.2.0,>=0.1.125->langchain-core<0.4.0,>=0.3.21->langchain_openai) (1.0.0)\n",
      "Requirement already satisfied: annotated-types>=0.6.0 in /Users/macos/anaconda3/envs/DeepLearning/lib/python3.10/site-packages (from pydantic<3.0.0,>=2.5.2->langchain-core<0.4.0,>=0.3.21->langchain_openai) (0.6.0)\n",
      "Requirement already satisfied: pydantic-core==2.27.1 in /Users/macos/anaconda3/envs/DeepLearning/lib/python3.10/site-packages (from pydantic<3.0.0,>=2.5.2->langchain-core<0.4.0,>=0.3.21->langchain_openai) (2.27.1)\n",
      "Requirement already satisfied: charset-normalizer<4,>=2 in /Users/macos/anaconda3/envs/DeepLearning/lib/python3.10/site-packages (from requests>=2.26.0->tiktoken<1,>=0.7->langchain_openai) (3.3.2)\n",
      "Requirement already satisfied: urllib3<3,>=1.21.1 in /Users/macos/anaconda3/envs/DeepLearning/lib/python3.10/site-packages (from requests>=2.26.0->tiktoken<1,>=0.7->langchain_openai) (2.2.1)\n"
     ]
    }
   ],
   "source": [
    "!pip install langchain_community\n",
    "!pip install langchain_openai"
   ]
  },
  {
   "cell_type": "code",
   "execution_count": 3,
   "metadata": {
    "colab": {
     "base_uri": "https://localhost:8080/"
    },
    "id": "BPmd-EbzAnvK",
    "outputId": "1557e03f-3264-4e54-f35b-9b50d7d9c00f"
   },
   "outputs": [],
   "source": [
    "from langchain_community.tools.tavily_search import TavilySearchResults\n",
    "import os\n",
    "import getpass\n",
    "\n",
    "os.environ[\"TAVILY_API_KEY\"] = getpass.getpass(\"Tavily API Key:\")\n",
    "\n",
    "# Verify if the environment variable is set correctly\n",
    "assert \"TAVILY_API_KEY\" in os.environ, \"TAVILY_API_KEY is not set properly.\"\n",
    "search = TavilySearchResults()"
   ]
  },
  {
   "cell_type": "code",
   "execution_count": 3,
   "metadata": {
    "colab": {
     "base_uri": "https://localhost:8080/"
    },
    "id": "UWoBGZIpBHje",
    "outputId": "c6944e80-8e55-427e-ca97-50896853690c"
   },
   "outputs": [
    {
     "name": "stdout",
     "output_type": "stream",
     "text": [
      "[{'url': 'https://www.techtarget.com/whatis/definition/quantum-computing', 'content': 'What is quantum computing? Quantum computing is an area of computer science focused on the development of computers based on the principles of quantum theory.Quantum computing uses the unique behaviors of quantum physics to solve problems that are too complex for classical computing.. Quantum computers work by taking advantage of quantum mechanical properties like superposition and quantum'}, {'url': 'https://aws.amazon.com/what-is/quantum-computing/', 'content': 'The quantum data plane is the core of the quantum computer and includes the physical qubits and the structures required to hold them in place.\\n A large engineering challenge in constructing a quantum computer is designing the various features that attempt to delay decoherence of the state, such as building specialty structures that shield the qubits from external fields.\\n Quantum advantage is the threshold where we have built a quantum system that can perform operations that the best possible classical computer cannot simulate in any kind of reasonable time.\\n The atoms are not charged and the circuits can operate at room temperatures\\nRydberg atom processors\\nA Rydberg atom is an excited atom with one or more electrons that are further away from the nucleus, on average. What is quantum mechanics?\\nQuantum mechanics is the area of physics that studies the behavior of particles at a microscopic level.'}, {'url': 'https://www.ibm.com/topics/quantum-computing', 'content': 'Today, a great deal of the work in the field of quantum computing is devoted to realizing error correction — a technqiue that would enable noise-free quantum computation on very large quantum computers.\\n Our Roadmap is a clear, detailed plan to scale quantum processors, overcome the scaling problem, and build the hardware necessary for quantum advantage in the era of noisy quantum machines.\\n It is open-source, Python-based, and by far the most widely-used quantum SDK in the world — useful for executions both on IBM’s fleet of superconducting quantum computers and on systems that use alternative technologies like ions trapped in magnetic fields.\\n And a quantum hardware system is about the size of a car, made up mostly of cooling systems to keep the superconducting processor at its ultra-cold operational temperature.\\n Build programs that solve problems in new ways on IBM Quantum systems—the most popular and powerful quantum hardware in the world.\\n'}, {'url': 'https://www.technologyreview.com/2019/01/29/66141/what-is-quantum-computing/', 'content': 'Where is a quantum computer likely to be most useful first?\\nOne of the most promising applications of quantum computers is for simulating the behavior of matter\\xa0down to the molecular level. Rogue superintelligence and merging with machines: Inside the mind of OpenAI’s chief scientist\\nAn exclusive conversation with Ilya Sutskever on his fears for the future of AI and why they’ve made him change the focus of his life’s work.\\n The final result of a calculation emerges only once the qubits are measured, which immediately causes their quantum state to “collapse” to either 1\\xa0or 0.\\n It’s the point at which a quantum computer can complete a mathematical calculation that is demonstrably beyond the reach of even the most powerful supercomputer.\\n Changing the state of one of the qubits will instantaneously change the state of the other one in a predictable way.'}, {'url': 'https://scienceexchange.caltech.edu/topics/quantum-science-explained/quantum-computing-computers', 'content': \"Breakthroughs have come from alumni and current Caltech scientists and engineers, some of whom are affiliated with Caltech centers such as the Institute for Quantum Information and Matter and its precursors; the Kavli Nanoscience Institute; the new AWS Center for Quantum Computing; and JPL, a NASA laboratory managed by Caltech. Theorists and experimentalists develop strategies to reduce errors, lengthen the time that qubits can stay in quantum states, and increase the system's fault tolerance, preserving its accuracy even in the presence of errors.\\n This technology reached a milestone in 2019, when a quantum computer completed a specific calculation in a sliver of the time a classical supercomputer would have needed to solve the same problem. Just as people could envision few of today's uses of classical computers and related technologies back in the 1950s, we may be surprised by the applications that emerge for quantum computers.\\n The feat is considered a proof of principle; the use of this type of quantum computer to solve practical problems is expected to be years away.\\n\"}]\n"
     ]
    }
   ],
   "source": [
    "results = search.invoke(\n",
    "    {\n",
    "        \"query\": \"What is quantumn computing?\",\n",
    "    }\n",
    ")\n",
    "print(results)"
   ]
  },
  {
   "cell_type": "code",
   "execution_count": 2,
   "metadata": {
    "colab": {
     "base_uri": "https://localhost:8080/"
    },
    "id": "O5cBan4EF8V3",
    "outputId": "3a7d66d9-749a-4863-9233-eb08edbf19e1"
   },
   "outputs": [
    {
     "name": "stdout",
     "output_type": "stream",
     "text": [
      "Requirement already satisfied: openai in /Users/macos/anaconda3/envs/DeepLearning/lib/python3.10/site-packages (1.57.0)\n",
      "Requirement already satisfied: langchain in /Users/macos/anaconda3/envs/DeepLearning/lib/python3.10/site-packages (0.3.9)\n",
      "Requirement already satisfied: anyio<5,>=3.5.0 in /Users/macos/anaconda3/envs/DeepLearning/lib/python3.10/site-packages (from openai) (4.3.0)\n",
      "Requirement already satisfied: distro<2,>=1.7.0 in /Users/macos/anaconda3/envs/DeepLearning/lib/python3.10/site-packages (from openai) (1.9.0)\n",
      "Requirement already satisfied: httpx<1,>=0.23.0 in /Users/macos/anaconda3/envs/DeepLearning/lib/python3.10/site-packages (from openai) (0.27.0)\n",
      "Requirement already satisfied: jiter<1,>=0.4.0 in /Users/macos/anaconda3/envs/DeepLearning/lib/python3.10/site-packages (from openai) (0.8.0)\n",
      "Requirement already satisfied: pydantic<3,>=1.9.0 in /Users/macos/anaconda3/envs/DeepLearning/lib/python3.10/site-packages (from openai) (2.10.3)\n",
      "Requirement already satisfied: sniffio in /Users/macos/anaconda3/envs/DeepLearning/lib/python3.10/site-packages (from openai) (1.3.1)\n",
      "Requirement already satisfied: tqdm>4 in /Users/macos/anaconda3/envs/DeepLearning/lib/python3.10/site-packages (from openai) (4.66.2)\n",
      "Requirement already satisfied: typing-extensions<5,>=4.11 in /Users/macos/anaconda3/envs/DeepLearning/lib/python3.10/site-packages (from openai) (4.12.2)\n",
      "Requirement already satisfied: PyYAML>=5.3 in /Users/macos/anaconda3/envs/DeepLearning/lib/python3.10/site-packages (from langchain) (6.0.1)\n",
      "Requirement already satisfied: SQLAlchemy<3,>=1.4 in /Users/macos/anaconda3/envs/DeepLearning/lib/python3.10/site-packages (from langchain) (2.0.36)\n",
      "Requirement already satisfied: aiohttp<4.0.0,>=3.8.3 in /Users/macos/anaconda3/envs/DeepLearning/lib/python3.10/site-packages (from langchain) (3.9.3)\n",
      "Requirement already satisfied: async-timeout<5.0.0,>=4.0.0 in /Users/macos/anaconda3/envs/DeepLearning/lib/python3.10/site-packages (from langchain) (4.0.3)\n",
      "Requirement already satisfied: langchain-core<0.4.0,>=0.3.21 in /Users/macos/anaconda3/envs/DeepLearning/lib/python3.10/site-packages (from langchain) (0.3.21)\n",
      "Requirement already satisfied: langchain-text-splitters<0.4.0,>=0.3.0 in /Users/macos/anaconda3/envs/DeepLearning/lib/python3.10/site-packages (from langchain) (0.3.2)\n",
      "Requirement already satisfied: langsmith<0.2.0,>=0.1.17 in /Users/macos/anaconda3/envs/DeepLearning/lib/python3.10/site-packages (from langchain) (0.1.147)\n",
      "Requirement already satisfied: numpy<2,>=1.22.4 in /Users/macos/anaconda3/envs/DeepLearning/lib/python3.10/site-packages (from langchain) (1.26.4)\n",
      "Requirement already satisfied: requests<3,>=2 in /Users/macos/anaconda3/envs/DeepLearning/lib/python3.10/site-packages (from langchain) (2.31.0)\n",
      "Requirement already satisfied: tenacity!=8.4.0,<10,>=8.1.0 in /Users/macos/anaconda3/envs/DeepLearning/lib/python3.10/site-packages (from langchain) (8.4.2)\n",
      "Requirement already satisfied: aiosignal>=1.1.2 in /Users/macos/anaconda3/envs/DeepLearning/lib/python3.10/site-packages (from aiohttp<4.0.0,>=3.8.3->langchain) (1.3.1)\n",
      "Requirement already satisfied: attrs>=17.3.0 in /Users/macos/anaconda3/envs/DeepLearning/lib/python3.10/site-packages (from aiohttp<4.0.0,>=3.8.3->langchain) (23.2.0)\n",
      "Requirement already satisfied: frozenlist>=1.1.1 in /Users/macos/anaconda3/envs/DeepLearning/lib/python3.10/site-packages (from aiohttp<4.0.0,>=3.8.3->langchain) (1.4.1)\n",
      "Requirement already satisfied: multidict<7.0,>=4.5 in /Users/macos/anaconda3/envs/DeepLearning/lib/python3.10/site-packages (from aiohttp<4.0.0,>=3.8.3->langchain) (6.0.5)\n",
      "Requirement already satisfied: yarl<2.0,>=1.0 in /Users/macos/anaconda3/envs/DeepLearning/lib/python3.10/site-packages (from aiohttp<4.0.0,>=3.8.3->langchain) (1.9.4)\n",
      "Requirement already satisfied: idna>=2.8 in /Users/macos/anaconda3/envs/DeepLearning/lib/python3.10/site-packages (from anyio<5,>=3.5.0->openai) (3.6)\n",
      "Requirement already satisfied: exceptiongroup>=1.0.2 in /Users/macos/anaconda3/envs/DeepLearning/lib/python3.10/site-packages (from anyio<5,>=3.5.0->openai) (1.2.0)\n",
      "Requirement already satisfied: certifi in /Users/macos/anaconda3/envs/DeepLearning/lib/python3.10/site-packages (from httpx<1,>=0.23.0->openai) (2024.7.4)\n",
      "Requirement already satisfied: httpcore==1.* in /Users/macos/anaconda3/envs/DeepLearning/lib/python3.10/site-packages (from httpx<1,>=0.23.0->openai) (1.0.4)\n",
      "Requirement already satisfied: h11<0.15,>=0.13 in /Users/macos/anaconda3/envs/DeepLearning/lib/python3.10/site-packages (from httpcore==1.*->httpx<1,>=0.23.0->openai) (0.14.0)\n",
      "Requirement already satisfied: jsonpatch<2.0,>=1.33 in /Users/macos/anaconda3/envs/DeepLearning/lib/python3.10/site-packages (from langchain-core<0.4.0,>=0.3.21->langchain) (1.33)\n",
      "Requirement already satisfied: packaging<25,>=23.2 in /Users/macos/anaconda3/envs/DeepLearning/lib/python3.10/site-packages (from langchain-core<0.4.0,>=0.3.21->langchain) (24.0)\n",
      "Requirement already satisfied: orjson<4.0.0,>=3.9.14 in /Users/macos/anaconda3/envs/DeepLearning/lib/python3.10/site-packages (from langsmith<0.2.0,>=0.1.17->langchain) (3.10.12)\n",
      "Requirement already satisfied: requests-toolbelt<2.0.0,>=1.0.0 in /Users/macos/anaconda3/envs/DeepLearning/lib/python3.10/site-packages (from langsmith<0.2.0,>=0.1.17->langchain) (1.0.0)\n",
      "Requirement already satisfied: annotated-types>=0.6.0 in /Users/macos/anaconda3/envs/DeepLearning/lib/python3.10/site-packages (from pydantic<3,>=1.9.0->openai) (0.6.0)\n",
      "Requirement already satisfied: pydantic-core==2.27.1 in /Users/macos/anaconda3/envs/DeepLearning/lib/python3.10/site-packages (from pydantic<3,>=1.9.0->openai) (2.27.1)\n",
      "Requirement already satisfied: charset-normalizer<4,>=2 in /Users/macos/anaconda3/envs/DeepLearning/lib/python3.10/site-packages (from requests<3,>=2->langchain) (3.3.2)\n",
      "Requirement already satisfied: urllib3<3,>=1.21.1 in /Users/macos/anaconda3/envs/DeepLearning/lib/python3.10/site-packages (from requests<3,>=2->langchain) (2.2.1)\n",
      "Requirement already satisfied: greenlet!=0.4.17 in /Users/macos/anaconda3/envs/DeepLearning/lib/python3.10/site-packages (from SQLAlchemy<3,>=1.4->langchain) (3.1.1)\n",
      "Requirement already satisfied: jsonpointer>=1.9 in /Users/macos/anaconda3/envs/DeepLearning/lib/python3.10/site-packages (from jsonpatch<2.0,>=1.33->langchain-core<0.4.0,>=0.3.21->langchain) (2.4)\n",
      "Note: you may need to restart the kernel to use updated packages.\n"
     ]
    }
   ],
   "source": [
    "pip install --upgrade openai langchain"
   ]
  },
  {
   "cell_type": "code",
   "execution_count": 24,
   "metadata": {
    "colab": {
     "base_uri": "https://localhost:8080/",
     "height": 391
    },
    "id": "D4JF-MSNB1QY",
    "outputId": "d640beb2-9ae9-459f-9679-99e6a32cd505"
   },
   "outputs": [],
   "source": [
    "from langchain_openai import ChatOpenAI\n",
    "\n",
    "os.environ[\"OPENAI_API_KEY\"] = getpass.getpass(\"OpenAI API Key:\")\n",
    "\n",
    "# Verify if the environment variable is set correctly\n",
    "assert \"OPENAI_API_KEY\" in os.environ, \"OPENAI_API_KEY is not set properly.\"\n",
    "\n",
    "tools = [search]\n",
    "llm = ChatOpenAI(model=\"gpt-3.5-turbo\", temperature=0)"
   ]
  },
  {
   "cell_type": "code",
   "execution_count": 25,
   "metadata": {
    "id": "7_XZvP-HB_9I"
   },
   "outputs": [
    {
     "name": "stderr",
     "output_type": "stream",
     "text": [
      "/Users/macos/anaconda3/envs/DeepLearning/lib/python3.10/site-packages/langsmith/client.py:241: LangSmithMissingAPIKeyWarning: API key must be provided when using hosted LangSmith API\n",
      "  warnings.warn(\n"
     ]
    },
    {
     "data": {
      "text/plain": [
       "[SystemMessagePromptTemplate(prompt=PromptTemplate(input_variables=[], input_types={}, partial_variables={}, template='You are a helpful assistant'), additional_kwargs={}),\n",
       " MessagesPlaceholder(variable_name='chat_history', optional=True),\n",
       " HumanMessagePromptTemplate(prompt=PromptTemplate(input_variables=['input'], input_types={}, partial_variables={}, template='{input}'), additional_kwargs={}),\n",
       " MessagesPlaceholder(variable_name='agent_scratchpad')]"
      ]
     },
     "execution_count": 25,
     "metadata": {},
     "output_type": "execute_result"
    }
   ],
   "source": [
    "from langchain import hub\n",
    "\n",
    "prompt = hub.pull(\"hwchase17/openai-functions-agent\")\n",
    "prompt.messages"
   ]
  },
  {
   "cell_type": "code",
   "execution_count": 26,
   "metadata": {},
   "outputs": [
    {
     "name": "stdout",
     "output_type": "stream",
     "text": [
      "\n",
      "\n",
      "\u001b[1m> Entering new AgentExecutor chain...\u001b[0m\n",
      "\u001b[32;1m\u001b[1;3m\n",
      "Invoking: `tavily_search_results_json` with `{'query': 'LLM'}`\n",
      "\n",
      "\n",
      "\u001b[0m\u001b[36;1m\u001b[1;3m[{'url': 'https://azure.microsoft.com/en-us/resources/cloud-computing-dictionary/what-are-large-language-models-llms', 'content': 'Azure Azure Azure Azure Large language models (LLMs) are advanced AI systems that understand and generate natural language, or human-like text, using the data they’ve been trained on through machine learning techniques. First developed by OpenAI in 2018, the GPT series introduced the foundational concept of data collection, pretraining, and fine-tuning to LLMs. GPT-2, released in 2019, significantly scaled up the model’s capabilities and improved its ability to generate more contextually relevant language. As a specific type of AI model, LLMs are a subset of the broader AI landscape, one that focuses on processing and generating natural language text. Generative pre-trained transformer (GPT) refers to a specific series of large language models (LLMs) developed by OpenAI. What is Azure?'}, {'url': 'https://www.geeksforgeeks.org/top-20-llm-models/', 'content': 'Large Language Model commonly known as an LLM, refers to a neural network equipped with billions of parameters and trained extensively on extensive datasets of unlabeled text.This training typically involves self-supervised or semi-supervised learning techniques. In this article, we explore about Top 20 LLM Models and get to know how each model has distinct features and applications.'}, {'url': 'https://www.britannica.com/topic/large-language-model', 'content': 'The new speeds provided by transformers allowed for even more parameters and data to be incorporated into models, paving the way for the introduction of the first LLMs, which included Google’s BERT (Bidirectional Encoder Representations from Transformers) and OpenAI’s GPT (Generative Pre-trained Transformer), the following year.\\n Large also refers to the sheer amount of data used to train an LLM, which can be multiple petabytes in size and contain trillions of tokens, which are the basic units of text or code, usually a few characters long, that are processed by the model.\\n Smaller language models, such as the predictive text feature in text-messaging applications, may fill in the blank in the sentence “The sick man called for an ambulance to take him to the _____” with the word hospital. Other issues outlined by experts include information hazards, wherein LLMs may disclose private information present in training data; malicious use, wherein bad actors use the models to bolster disinformation campaigns or commit fraud; and economic harms, in which LLMs may displace workers and widen inequality gaps between those with access to the technology and those without such access. The training process may involve unsupervised learning (the initial process of forming connections between unlabeled and unstructured data) as well as supervised learning (the process of fine-tuning the model to allow for more targeted analysis).'}, {'url': 'https://www.ibm.com/topics/large-language-models', 'content': 'AI governance and traceability are also fundamental aspects of the solutions IBM brings to its customers, so that activities that involve AI are managed and monitored to allow for tracing origins, data and models in a way that is always auditable and accountable.\\n LLMs have become a household name thanks to the role they have played in bringing generative AI to the forefront of the public interest, as well as the point on which organizations are focusing to adopt artificial intelligence across numerous business functions and use cases.\\n Large language models (LLMs) are a category of foundation models trained on immense amounts of data making them capable of understanding and generating natural language and other types of content to perform a wide range of tasks.\\n This is in stark contrast to the idea of building and training domain specific models for each of these use cases individually, which is prohibitive under many criteria (most importantly cost and infrastructure), stifles synergies and can even lead to inferior performance.\\n In a nutshell, LLMs are designed to understand and generate text like a human, in addition to other forms of content, based on the vast amount of data used to train them.'}, {'url': 'https://www.geeksforgeeks.org/large-language-model-llm/', 'content': 'Support Vector Machines\\nDecision Tree\\nEnsemble Learning\\nGenerative Model\\nTime Series Forecasting\\nClustering Algorithm\\nConvolutional Neural Networks\\nRecurrent Neural Networks\\nReinforcement Learning\\nModel Deployment and Productionization\\nAdvanced Topics\\nWhat is a Large Language Model (LLM)\\nLarge Language Models (LLMs) represent a breakthrough in artificial intelligence, employing neural network techniques with extensive parameters for advanced language processing.\\n Support Vector Machines\\nDecision Tree\\nEnsemble Learning\\nGenerative Model\\nTime Series Forecasting\\nClustering Algorithm\\nConvolutional Neural Networks\\nRecurrent Neural Networks\\nReinforcement Learning\\nModel Deployment and Productionization\\nAdvanced Topics\\nGetting Started with Machine Learning\\nData Preprocessing\\nClassification & Regression\\nK-Nearest Neighbors (KNN)\\n What are the Advantages of Large Language Models?\\nLarge Language Models (LLMs) come with several advantages that contribute to their widespread adoption and success in various applications:\\nChallenges in Training of Large Language Models\\nThere has been no doubt in the abilities of the LLMs in the future and this technology is part of most of the AI-powered applications which will be used by multiple users on a daily basis. Data Structures and Algorithms\\nML & Data Science\\nWeb Development\\nLanguages\\nInterview Corner\\nCS Subjects\\nJobs\\nPractice\\nContests\\nGetting Started with Machine Learning\\nData Preprocessing\\nClassification & Regression\\nK-Nearest Neighbors (KNN)\\n LLM has the capability to bring revolution in the AI-powered application but the advancements in this field seem a bit difficult because just increasing the size of the model may increase its performance but after a particular time a saturation in the performance will come and the challenges to handle these models will be bigger than the performance boost achieved by further increasing the size of the models.\\n'}]\u001b[0m\u001b[32;1m\u001b[1;3mLarge Language Models (LLMs) are advanced AI systems that understand and generate natural language using the data they've been trained on through machine learning techniques. LLMs have billions of parameters and are trained extensively on extensive datasets of unlabeled text. They are capable of processing and generating natural language text for a wide range of tasks. LLMs have become prominent in the field of artificial intelligence and are designed to understand and generate text like a human based on the vast amount of data used to train them. Some well-known LLM models include Google's BERT (Bidirectional Encoder Representations from Transformers) and OpenAI's GPT (Generative Pre-trained Transformer).\u001b[0m\n",
      "\n",
      "\u001b[1m> Finished chain.\u001b[0m\n"
     ]
    },
    {
     "data": {
      "text/plain": [
       "{'input': 'What is LLM?',\n",
       " 'output': \"Large Language Models (LLMs) are advanced AI systems that understand and generate natural language using the data they've been trained on through machine learning techniques. LLMs have billions of parameters and are trained extensively on extensive datasets of unlabeled text. They are capable of processing and generating natural language text for a wide range of tasks. LLMs have become prominent in the field of artificial intelligence and are designed to understand and generate text like a human based on the vast amount of data used to train them. Some well-known LLM models include Google's BERT (Bidirectional Encoder Representations from Transformers) and OpenAI's GPT (Generative Pre-trained Transformer).\"}"
      ]
     },
     "execution_count": 26,
     "metadata": {},
     "output_type": "execute_result"
    }
   ],
   "source": [
    "from langchain.agents import AgentExecutor, create_tool_calling_agent, tool\n",
    "\n",
    "agent = create_tool_calling_agent(llm, tools, prompt)\n",
    "agent_executor = AgentExecutor(agent=agent, tools=tools, verbose=True)\n",
    "\n",
    "agent_executor.invoke(\n",
    "    {\n",
    "        \"input\": \"What is LLM?\"\n",
    "    }\n",
    ")"
   ]
  },
  {
   "cell_type": "code",
   "execution_count": null,
   "metadata": {},
   "outputs": [
    {
     "name": "stdout",
     "output_type": "stream",
     "text": [
      "\n",
      "\n",
      "\u001b[1m> Entering new AgentExecutor chain...\u001b[0m\n",
      "\u001b[32;1m\u001b[1;3m\n",
      "Invoking: `tavily_search_results_json` with `{'query': 'current weather in Ho Chi Minh City, Vietnam'}`\n",
      "\n",
      "\n",
      "\u001b[0m\u001b[36;1m\u001b[1;3m[{'url': 'https://www.weatherapi.com/', 'content': \"{'location': {'name': 'Ho Chi Minh City', 'region': '', 'country': 'Vietnam', 'lat': 10.75, 'lon': 106.6667, 'tz_id': 'Asia/Ho_Chi_Minh', 'localtime_epoch': 1733889688, 'localtime': '2024-12-11 11:01'}, 'current': {'last_updated_epoch': 1733889600, 'last_updated': '2024-12-11 11:00', 'temp_c': 25.7, 'temp_f': 78.3, 'is_day': 1, 'condition': {'text': 'Light rain shower', 'icon': '//cdn.weatherapi.com/weather/64x64/day/353.png', 'code': 1240}, 'wind_mph': 5.4, 'wind_kph': 8.6, 'wind_degree': 358, 'wind_dir': 'N', 'pressure_mb': 1008.0, 'pressure_in': 29.77, 'precip_mm': 0.24, 'precip_in': 0.01, 'humidity': 82, 'cloud': 100, 'feelslike_c': 28.2, 'feelslike_f': 82.8, 'windchill_c': 25.7, 'windchill_f': 78.3, 'heatindex_c': 28.2, 'heatindex_f': 82.8, 'dewpoint_c': 22.3, 'dewpoint_f': 72.2, 'vis_km': 10.0, 'vis_miles': 6.0, 'uv': 3.3, 'gust_mph': 6.9, 'gust_kph': 11.1}}\"}, {'url': 'https://www.vietnamonline.com/weather/ho-chi-minh-city-14-days-weather.html', 'content': 'Ho Chi Minh City 14 Day Weather Forecast. Starting from Friday, November 15, temperatures in Ho Chi Minh City will range from a low of 25°C to a high of around 30°C on Thursday, November 28. ... 12 km/h: 0.94 mm: 25°C: 21 November 2024; Day: Clouds: 27°C: 72%: 15.91 km/h: 0.0 mm: 30°C: Night: Rain: 23°C: 70%: 14 km/h:'}, {'url': 'https://www.weathertab.com/en/d/e/11/socialist-republic-of-vietnam/ho-chi-minh-city/ho-chi-minh-city/', 'content': 'Free Long Range Weather Forecast for Ho Chi Minh City, Ho Chi Minh City November 2024. Focused Daily Weather, Temperature, Sunrise, Sunset, and Moonphase Forecasts. ... Enter any city, zip or place. °F °C. Help > Vietnam Ho Chi Minh City, Ho Chi Minh City Nov 2024 Weather Forecast ... November 2024 Nov 2024.'}, {'url': 'https://www.meteoprog.com/weather/Hochiminh/month/november/', 'content': 'Ho Chi Minh weather in November 2024 ⋆ Ho Chi Minh temperature in November ≡ Weather forecast in Vietnam | METEOPROG Weather in Vietnam Weather Widgets Русский (UA) Русский WEATHER Water temperature Weather on a map Weather Widget Русский (UA) Русский Monthly Ho Chi Minh weather in November 2024 1 November 2 November 3 November 4 November 5 November 6 November 7 November 8 November 9 November 10 November 11 November 12 November 13 November 14 November 15 November 16 November 17 November 18 November 19 November 20 November * weather forecast is calculated based on historical data over the past 70 years November in Ho Chi Minh Max. temperature +33.8°C Min. temperature +18.8°C Monthly precipitation 97.32mm Max. temp… Min. temp…'}, {'url': 'https://world-weather.info/forecast/vietnam/ho_chi_minh/november-2024/', 'content': \"Weather in Ho Chi Minh City in November 2024 (Thành Phố Hồ Chí Minh) - Detailed Weather Forecast for a Month World Weather in Ho Chi Minh City Weather in Ho Chi Minh City in November 2024 Ho Chi Minh City Weather Forecast for November 2024 is based on long term prognosis and previous years' statistical data. 1 +84°+77° 2 +84°+77° 3 +81°+77° 4 +82°+75° 5 +84°+77° 6 +90°+77° +90°+82° +90°+81° +90°+81° +91°+81° +91°+81° +91°+81° +91°+81° +91°+81° +91°+81° +91°+81° +91°+81° +91°+81° +91°+81° +90°+81° +91°+81° +91°+81° +91°+81° +91°+81° +91°+81° +91°+81° +91°+81° +91°+82° +91°+81° +90°+81° Extended weather forecast in Ho Chi Minh City HourlyWeek10-Day14-Day30-DayYear Weather in Hanoi+81° Long Xuyen+79° Can Tho+79° Vĩnh Long+79° Mỹ Tho+81° Can Giuoc+79° world's temperature today day day\"}]\u001b[0m\u001b[32;1m\u001b[1;3mThe current weather in Ho Chi Minh City, Vietnam is as follows:\n",
      "- Temperature: 25.7°C (78.3°F)\n",
      "- Condition: Light rain shower\n",
      "- Wind: 8.6 km/h from the North\n",
      "- Humidity: 82%\n",
      "- Cloud Cover: 100%\n",
      "- Feels like: 28.2°C (82.8°F)\n",
      "- Visibility: 10.0 km (6.0 miles)\n",
      "- UV Index: 3.3\n",
      "\n",
      "For more detailed information, you can visit [Weather API](https://www.weatherapi.com/).\u001b[0m\n",
      "\n",
      "\u001b[1m> Finished chain.\u001b[0m\n"
     ]
    },
    {
     "data": {
      "text/plain": [
       "{'input': 'What is the current weather today in Ho Chi Minh city, Vietnam?',\n",
       " 'output': 'The current weather in Ho Chi Minh City, Vietnam is as follows:\\n- Temperature: 25.7°C (78.3°F)\\n- Condition: Light rain shower\\n- Wind: 8.6 km/h from the North\\n- Humidity: 82%\\n- Cloud Cover: 100%\\n- Feels like: 28.2°C (82.8°F)\\n- Visibility: 10.0 km (6.0 miles)\\n- UV Index: 3.3\\n\\nFor more detailed information, you can visit [Weather API](https://www.weatherapi.com/).'}"
      ]
     },
     "execution_count": 27,
     "metadata": {},
     "output_type": "execute_result"
    }
   ],
   "source": [
    "agent_executor.invoke(\n",
    "    {\n",
    "        \"input\": \"What is the current weather today in Ho Chi Minh city, Vietnam?\",\n",
    "    }\n",
    ")"
   ]
  },
  {
   "cell_type": "markdown",
   "metadata": {},
   "source": [
    "# Add memory"
   ]
  },
  {
   "cell_type": "code",
   "execution_count": 29,
   "metadata": {},
   "outputs": [
    {
     "name": "stdout",
     "output_type": "stream",
     "text": [
      "\n",
      "\n",
      "\u001b[1m> Entering new AgentExecutor chain...\u001b[0m\n",
      "\u001b[32;1m\u001b[1;3mYour name is AI VIETNAM. How can I help you further?\u001b[0m\n",
      "\n",
      "\u001b[1m> Finished chain.\u001b[0m\n"
     ]
    },
    {
     "data": {
      "text/plain": [
       "{'chat_history': [HumanMessage(content='Hi! My name is AI VIETNAM', additional_kwargs={}, response_metadata={}),\n",
       "  AIMessage(content='Hello AI VIETNAM! How can I assist you today?', additional_kwargs={}, response_metadata={})],\n",
       " 'input': 'What is my name?',\n",
       " 'output': 'Your name is AI VIETNAM. How can I help you further?'}"
      ]
     },
     "execution_count": 29,
     "metadata": {},
     "output_type": "execute_result"
    }
   ],
   "source": [
    "from langchain_core.messages import AIMessage, HumanMessage\n",
    "agent_executor.invoke(\n",
    "    {\n",
    "        \"chat_history\": [\n",
    "            HumanMessage(content=\"Hi! My name is AI VIETNAM\"),\n",
    "            AIMessage(content=\"Hello AI VIETNAM! How can I assist you today?\")\n",
    "        ],\n",
    "        \"input\": \"What is my name?\",\n",
    "    }\n",
    ")"
   ]
  },
  {
   "cell_type": "code",
   "execution_count": 30,
   "metadata": {},
   "outputs": [],
   "source": [
    "from langchain_community.chat_message_histories import ChatMessageHistory\n",
    "from langchain_core.runnables.history import RunnableWithMessageHistory\n",
    "\n",
    "message_history = ChatMessageHistory()\n",
    "\n",
    "agent_with_chat_history = RunnableWithMessageHistory(\n",
    "    agent_executor,\n",
    "    lambda session_id: message_history,\n",
    "    input_messages_key=\"input\",\n",
    "    history_messages_key=\"chat_history\"\n",
    ")"
   ]
  },
  {
   "cell_type": "code",
   "execution_count": 31,
   "metadata": {},
   "outputs": [
    {
     "name": "stdout",
     "output_type": "stream",
     "text": [
      "\n",
      "\n",
      "\u001b[1m> Entering new AgentExecutor chain...\u001b[0m\n",
      "\u001b[32;1m\u001b[1;3mHello AI VIETNAM! How can I assist you today?\u001b[0m\n",
      "\n",
      "\u001b[1m> Finished chain.\u001b[0m\n"
     ]
    },
    {
     "data": {
      "text/plain": [
       "{'input': 'Hi! I am AI VIETNAM',\n",
       " 'chat_history': [],\n",
       " 'output': 'Hello AI VIETNAM! How can I assist you today?'}"
      ]
     },
     "execution_count": 31,
     "metadata": {},
     "output_type": "execute_result"
    }
   ],
   "source": [
    "agent_with_chat_history.invoke(\n",
    "    {\"input\": \"Hi! I am AI VIETNAM\"},\n",
    "    config={\"configurable\": {\"session_id\": \"<foo>\"}},\n",
    ")"
   ]
  },
  {
   "cell_type": "code",
   "execution_count": 32,
   "metadata": {},
   "outputs": [
    {
     "name": "stdout",
     "output_type": "stream",
     "text": [
      "\n",
      "\n",
      "\u001b[1m> Entering new AgentExecutor chain...\u001b[0m\n",
      "\u001b[32;1m\u001b[1;3mYour name is AI VIETNAM. How can I help you further?\u001b[0m\n",
      "\n",
      "\u001b[1m> Finished chain.\u001b[0m\n"
     ]
    },
    {
     "data": {
      "text/plain": [
       "{'input': 'What is my name?',\n",
       " 'chat_history': [HumanMessage(content='Hi! I am AI VIETNAM', additional_kwargs={}, response_metadata={}),\n",
       "  AIMessage(content='Hello AI VIETNAM! How can I assist you today?', additional_kwargs={}, response_metadata={})],\n",
       " 'output': 'Your name is AI VIETNAM. How can I help you further?'}"
      ]
     },
     "execution_count": 32,
     "metadata": {},
     "output_type": "execute_result"
    }
   ],
   "source": [
    "agent_with_chat_history.invoke(\n",
    "    {\"input\": \"What is my name?\"},\n",
    "    config={\"configurable\": {\"session_id\": \"<foo>\"}},\n",
    ")"
   ]
  },
  {
   "cell_type": "markdown",
   "metadata": {},
   "source": [
    "# Find word length Agent"
   ]
  },
  {
   "cell_type": "code",
   "execution_count": 46,
   "metadata": {},
   "outputs": [
    {
     "name": "stdout",
     "output_type": "stream",
     "text": [
      "3\n"
     ]
    }
   ],
   "source": [
    "import os\n",
    "from langchain_openai import ChatOpenAI\n",
    "from langchain.agents import tool\n",
    "\n",
    "\n",
    "os.environ[\"OPENAI_API_KEY\"] = getpass.getpass(\"OpenAI API Key:\")\n",
    "\n",
    "# Verify if the environment variable is set correctly\n",
    "assert \"OPENAI_API_KEY\" in os.environ, \"OPENAI_API_KEY is not set properly.\"\n",
    "\n",
    "OPENAI_API_KEY = os.getenv('OPENAI_API_KEY')\n",
    "os.environ[\"OPENAI_API_KEY\"] = OPENAI_API_KEY\n",
    "\n",
    "llm_2 = ChatOpenAI(model=\"gpt-3.5-turbo\", temperature=0)\n",
    "\n",
    "@tool\n",
    "def get_word_length(word: str) -> int:\n",
    "    \"\"\"Returns the length of a word\"\"\"\n",
    "    return len(word)\n",
    "\n",
    "print(get_word_length.invoke(\"abc\"))\n",
    "\n",
    "tools = [get_word_length]"
   ]
  },
  {
   "cell_type": "code",
   "execution_count": 47,
   "metadata": {},
   "outputs": [],
   "source": [
    "from langchain_core.prompts import ChatPromptTemplate, MessagesPlaceholder\n",
    "\n",
    "prompt = ChatPromptTemplate.from_messages(\n",
    "    [\n",
    "        (\n",
    "            \"system\",\n",
    "            \"You are very powerful assistant, but don't know current events\",\n",
    "        ),\n",
    "        (\n",
    "            \"user\",\n",
    "            \"{input}\"\n",
    "        ),\n",
    "        MessagesPlaceholder(variable_name=\"agent_scratchpad\"),\n",
    "    ]\n",
    ")"
   ]
  },
  {
   "cell_type": "code",
   "execution_count": 48,
   "metadata": {},
   "outputs": [],
   "source": [
    "from langchain.agents.format_scratchpad.openai_tools import (\n",
    "    format_to_openai_tool_messages,\n",
    ")\n",
    "from langchain.agents.output_parsers.openai_tools import OpenAIToolsAgentOutputParser\n",
    "\n",
    "llm_with_tools = llm_2.bind_tools(tools)\n",
    "\n",
    "agent = (\n",
    "    {\n",
    "        \"input\": lambda x: x[\"input\"],\n",
    "        \"agent_scratchpad\": lambda x: format_to_openai_tool_messages(\n",
    "            x[\"intermediate_steps\"]\n",
    "        ),\n",
    "    }\n",
    "    | prompt\n",
    "    | llm_with_tools\n",
    "    | OpenAIToolsAgentOutputParser()\n",
    ")"
   ]
  },
  {
   "cell_type": "code",
   "execution_count": 52,
   "metadata": {},
   "outputs": [
    {
     "name": "stdout",
     "output_type": "stream",
     "text": [
      "\n",
      "\n",
      "\u001b[1m> Entering new None chain...\u001b[0m\n",
      "{'actions': [ToolAgentAction(tool='get_word_length', tool_input={'word': 'hello'}, log=\"\\nInvoking: `get_word_length` with `{'word': 'hello'}`\\n\\n\\n\", message_log=[AIMessageChunk(content='', additional_kwargs={'tool_calls': [{'index': 0, 'id': 'call_XyXq074ZVkqQHXFp6A4uj8XB', 'function': {'arguments': '{\"word\":\"hello\"}', 'name': 'get_word_length'}, 'type': 'function'}]}, response_metadata={'finish_reason': 'tool_calls', 'model_name': 'gpt-3.5-turbo-0125'}, id='run-fe6c9902-8996-4035-a249-eb2be3db1ebe', tool_calls=[{'name': 'get_word_length', 'args': {'word': 'hello'}, 'id': 'call_XyXq074ZVkqQHXFp6A4uj8XB', 'type': 'tool_call'}], tool_call_chunks=[{'name': 'get_word_length', 'args': '{\"word\":\"hello\"}', 'id': 'call_XyXq074ZVkqQHXFp6A4uj8XB', 'index': 0, 'type': 'tool_call_chunk'}])], tool_call_id='call_XyXq074ZVkqQHXFp6A4uj8XB')], 'messages': [AIMessageChunk(content='', additional_kwargs={'tool_calls': [{'index': 0, 'id': 'call_XyXq074ZVkqQHXFp6A4uj8XB', 'function': {'arguments': '{\"word\":\"hello\"}', 'name': 'get_word_length'}, 'type': 'function'}]}, response_metadata={'finish_reason': 'tool_calls', 'model_name': 'gpt-3.5-turbo-0125'}, id='run-fe6c9902-8996-4035-a249-eb2be3db1ebe', tool_calls=[{'name': 'get_word_length', 'args': {'word': 'hello'}, 'id': 'call_XyXq074ZVkqQHXFp6A4uj8XB', 'type': 'tool_call'}], tool_call_chunks=[{'name': 'get_word_length', 'args': '{\"word\":\"hello\"}', 'id': 'call_XyXq074ZVkqQHXFp6A4uj8XB', 'index': 0, 'type': 'tool_call_chunk'}])]}\n",
      "\u001b[32;1m\u001b[1;3m\n",
      "Invoking: `get_word_length` with `{'word': 'hello'}`\n",
      "\n",
      "\n",
      "\u001b[0m\u001b[36;1m\u001b[1;3m5\u001b[0m{'steps': [AgentStep(action=ToolAgentAction(tool='get_word_length', tool_input={'word': 'hello'}, log=\"\\nInvoking: `get_word_length` with `{'word': 'hello'}`\\n\\n\\n\", message_log=[AIMessageChunk(content='', additional_kwargs={'tool_calls': [{'index': 0, 'id': 'call_XyXq074ZVkqQHXFp6A4uj8XB', 'function': {'arguments': '{\"word\":\"hello\"}', 'name': 'get_word_length'}, 'type': 'function'}]}, response_metadata={'finish_reason': 'tool_calls', 'model_name': 'gpt-3.5-turbo-0125'}, id='run-fe6c9902-8996-4035-a249-eb2be3db1ebe', tool_calls=[{'name': 'get_word_length', 'args': {'word': 'hello'}, 'id': 'call_XyXq074ZVkqQHXFp6A4uj8XB', 'type': 'tool_call'}], tool_call_chunks=[{'name': 'get_word_length', 'args': '{\"word\":\"hello\"}', 'id': 'call_XyXq074ZVkqQHXFp6A4uj8XB', 'index': 0, 'type': 'tool_call_chunk'}])], tool_call_id='call_XyXq074ZVkqQHXFp6A4uj8XB'), observation=5)], 'messages': [FunctionMessage(content='5', additional_kwargs={}, response_metadata={}, name='get_word_length')]}\n",
      "\u001b[32;1m\u001b[1;3mThere are 5 letters in the word \"hello\".\u001b[0m\n",
      "\n",
      "\u001b[1m> Finished chain.\u001b[0m\n",
      "{'output': 'There are 5 letters in the word \"hello\".', 'messages': [AIMessage(content='There are 5 letters in the word \"hello\".', additional_kwargs={}, response_metadata={})]}\n"
     ]
    }
   ],
   "source": [
    "from langchain.agents import AgentExecutor\n",
    "\n",
    "agent_executor = AgentExecutor(agent=agent, tools=tools, verbose=True)\n",
    "\n",
    "for response in agent_executor.stream({\"input\": \"How many letters are there in the word hello?\"}):\n",
    "    print(response)\n"
   ]
  },
  {
   "cell_type": "code",
   "execution_count": null,
   "metadata": {},
   "outputs": [],
   "source": [
    "\n"
   ]
  },
  {
   "cell_type": "code",
   "execution_count": null,
   "metadata": {},
   "outputs": [],
   "source": []
  }
 ],
 "metadata": {
  "colab": {
   "provenance": []
  },
  "kernelspec": {
   "display_name": "DeepLearning",
   "language": "python",
   "name": "python3"
  },
  "language_info": {
   "codemirror_mode": {
    "name": "ipython",
    "version": 3
   },
   "file_extension": ".py",
   "mimetype": "text/x-python",
   "name": "python",
   "nbconvert_exporter": "python",
   "pygments_lexer": "ipython3",
   "version": "3.10.12"
  }
 },
 "nbformat": 4,
 "nbformat_minor": 0
}
