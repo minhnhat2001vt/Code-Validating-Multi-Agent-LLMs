{
 "cells": [
  {
   "cell_type": "code",
   "execution_count": 1,
   "metadata": {},
   "outputs": [],
   "source": [
    "import os\n",
    "from dotenv import load_dotenv\n",
    "from autogen import ConversableAgent\n",
    "import getpass"
   ]
  },
  {
   "cell_type": "markdown",
   "metadata": {},
   "source": [
    "# Define Agents"
   ]
  },
  {
   "cell_type": "code",
   "execution_count": 2,
   "metadata": {},
   "outputs": [],
   "source": [
    "API_Key= getpass.getpass(\"OPENAI API KEY: \")"
   ]
  },
  {
   "cell_type": "code",
   "execution_count": 3,
   "metadata": {},
   "outputs": [],
   "source": [
    "llm_configs={\"config_list\": [{\"model\": \"gpt-3.5-turbo\", \"temperature\": 0.9, \"api_key\": API_Key}]}"
   ]
  },
  {
   "cell_type": "markdown",
   "metadata": {},
   "source": [
    "## Student"
   ]
  },
  {
   "cell_type": "code",
   "execution_count": 6,
   "metadata": {},
   "outputs": [],
   "source": [
    "student_agent = ConversableAgent(\n",
    "    name=\"Student_Agent\",\n",
    "    system_message=\"You are a student, and you are looking for some idea for your topic to write your first research article.\",\n",
    "    llm_config=llm_configs\n",
    ")"
   ]
  },
  {
   "cell_type": "markdown",
   "metadata": {},
   "source": [
    "## Writer Assistant"
   ]
  },
  {
   "cell_type": "code",
   "execution_count": 7,
   "metadata": {},
   "outputs": [],
   "source": [
    "introduction_agent = ConversableAgent(\n",
    "    name=\"Introduction_Agent\",\n",
    "    system_message=\"You are a writer who very good at writing introduction. I will give you the topic, please write an introduction for a research article about that topic.\",\n",
    "    llm_config=llm_configs,\n",
    "    human_input_mode=\"NEVER\",\n",
    ")\n",
    "\n",
    "body_agent = ConversableAgent(\n",
    "    name=\"Body_Agent\",\n",
    "    system_message=\"You are a writer who very good at writing body. I will give you the topic and the introduction, please write a body based on these parts.\",\n",
    "    llm_config=llm_configs,\n",
    "    human_input_mode=\"NEVER\",\n",
    ")\n",
    "\n",
    "conclusion_agent = ConversableAgent(\n",
    "    name=\"Conclusion_Agent\",\n",
    "    system_message=\"You are a writer who very good at writing conclusion. I will give you the topic, the introduction and the body, please write a conclusion based on these parts.\",\n",
    "    llm_config=llm_configs,\n",
    "    human_input_mode=\"NEVER\",\n",
    ")"
   ]
  },
  {
   "cell_type": "markdown",
   "metadata": {},
   "source": [
    "# Sequential Chat"
   ]
  },
  {
   "cell_type": "code",
   "execution_count": 10,
   "metadata": {},
   "outputs": [
    {
     "name": "stdout",
     "output_type": "stream",
     "text": [
      "\u001b[33mStudent_Agent\u001b[0m (to Introduction_Agent):\n",
      "\n",
      "This is my topic: The future of Data Science..\n",
      "\n",
      "--------------------------------------------------------------------------------\n",
      "\u001b[33mIntroduction_Agent\u001b[0m (to Student_Agent):\n",
      "\n",
      "Data science is a rapidly evolving field that has revolutionized the way businesses and organizations collect, analyze, and interpret data to make informed decisions. As technology continues to advance at an unprecedented pace, the future of data science holds endless possibilities and promises to reshape industries across the globe. In this research article, we will explore the emerging trends, challenges, and opportunities that lie ahead in the ever-growing field of data science. By gaining insight into the future of data science, we can better prepare ourselves for the transformative impact it will have on society and the way we interact with data.\n",
      "\n",
      "--------------------------------------------------------------------------------\n",
      "\u001b[33mStudent_Agent\u001b[0m (to Body_Agent):\n",
      "\n",
      "This is my topic and introduction: ChatResult(chat_id=None, chat_history=[{'content': 'This is my topic: The future of Data Science..', 'role': 'assistant', 'name': 'Student_Agent'}, {'content': 'Data science is a rapidly evolving field that has revolutionized the way businesses and organizations collect, analyze, and interpret data to make informed decisions. As technology continues to advance at an unprecedented pace, the future of data science holds endless possibilities and promises to reshape industries across the globe. In this research article, we will explore the emerging trends, challenges, and opportunities that lie ahead in the ever-growing field of data science. By gaining insight into the future of data science, we can better prepare ourselves for the transformative impact it will have on society and the way we interact with data.', 'role': 'user', 'name': 'Introduction_Agent'}], summary='Data science is a rapidly evolving field that has revolutionized the way businesses and organizations collect, analyze, and interpret data to make informed decisions. As technology continues to advance at an unprecedented pace, the future of data science holds endless possibilities and promises to reshape industries across the globe. In this research article, we will explore the emerging trends, challenges, and opportunities that lie ahead in the ever-growing field of data science. By gaining insight into the future of data science, we can better prepare ourselves for the transformative impact it will have on society and the way we interact with data.', cost={'usage_including_cached_inference': {'total_cost': 0.00020050000000000002, 'gpt-3.5-turbo-0125': {'cost': 0.00020050000000000002, 'prompt_tokens': 56, 'completion_tokens': 115, 'total_tokens': 171}}, 'usage_excluding_cached_inference': {'total_cost': 0.00020050000000000002, 'gpt-3.5-turbo-0125': {'cost': 0.00020050000000000002, 'prompt_tokens': 56, 'completion_tokens': 115, 'total_tokens': 171}}}, human_input=[]).\n",
      "\n",
      "--------------------------------------------------------------------------------\n",
      "\u001b[33mBody_Agent\u001b[0m (to Student_Agent):\n",
      "\n",
      "Data science is a rapidly evolving field that has revolutionized the way businesses and organizations collect, analyze, and interpret data to make informed decisions. As technology continues to advance at an unprecedented pace, the future of data science holds endless possibilities and promises to reshape industries across the globe. In this research article, we will explore the emerging trends, challenges, and opportunities that lie ahead in the ever-growing field of data science. By gaining insight into the future of data science, we can better prepare ourselves for the transformative impact it will have on society and the way we interact with data.\n",
      "\n",
      "One of the key emerging trends in the field of data science is the increasing focus on ethical considerations and responsible data practices. With the growing concern over data privacy and security, organizations are being pushed to adopt more transparent and ethical approaches to data collection and analysis. This shift towards ethical data usage is not only driven by regulatory requirements but also by consumer demands for more accountability and transparency from businesses.\n",
      "\n",
      "Another important trend shaping the future of data science is the rise of automated machine learning (AutoML) tools. These tools are designed to streamline the process of building and deploying machine learning models, making it more accessible to a broader audience. As AutoML continues to advance, we can expect to see a democratization of data science, allowing individuals with varying levels of technical expertise to harness the power of machine learning for their specific needs.\n",
      "\n",
      "In addition to these trends, the future of data science also presents a range of challenges that must be addressed. One of the primary challenges is the ongoing shortage of skilled data professionals. As the demand for data scientists and analysts continues to outpace the supply, organizations are struggling to find qualified individuals to fill critical roles in their data teams. Addressing this talent gap will be crucial for the continued growth and success of the field.\n",
      "\n",
      "Moreover, the increasing complexity and volume of data being generated pose a significant challenge for data scientists. With the advent of big data and the Internet of Things (IoT), organizations are inundated with vast amounts of data that must be effectively managed and analyzed. Data scientists will need to develop innovative solutions for handling and extracting valuable insights from this data deluge to drive meaningful business outcomes.\n",
      "\n",
      "Despite these challenges, the future of data science also presents numerous opportunities for innovation and advancement. One such opportunity lies in the realm of artificial intelligence (AI) and machine learning, where data scientists can leverage cutting-edge technologies to develop more sophisticated algorithms and models. By harnessing the power of AI, organizations can gain deeper insights from their data, automate decision-making processes, and unlock new possibilities for business growth and development.\n",
      "\n",
      "In conclusion, the future of data science is brimming with potential and promise, offering exciting prospects for those working in the field. By staying abreast of emerging trends, overcoming challenges, and seizing opportunities for innovation, data scientists can play a pivotal role in shaping the future of technology and driving positive change across industries worldwide. As we continue to chart new territories in the realm of data science, the possibilities are truly limitless, and the impact on society is bound to be profound.\n",
      "\n",
      "--------------------------------------------------------------------------------\n",
      "\u001b[33mStudent_Agent\u001b[0m (to Conclusion_Agent):\n",
      "\n",
      "This is my topic, introduction, and body: ChatResult(chat_id=None, chat_history=[{'content': \"This is my topic and introduction: ChatResult(chat_id=None, chat_history=[{'content': 'This is my topic: The future of Data Science..', 'role': 'assistant', 'name': 'Student_Agent'}, {'content': 'Data science is a rapidly evolving field that has revolutionized the way businesses and organizations collect, analyze, and interpret data to make informed decisions. As technology continues to advance at an unprecedented pace, the future of data science holds endless possibilities and promises to reshape industries across the globe. In this research article, we will explore the emerging trends, challenges, and opportunities that lie ahead in the ever-growing field of data science. By gaining insight into the future of data science, we can better prepare ourselves for the transformative impact it will have on society and the way we interact with data.', 'role': 'user', 'name': 'Introduction_Agent'}], summary='Data science is a rapidly evolving field that has revolutionized the way businesses and organizations collect, analyze, and interpret data to make informed decisions. As technology continues to advance at an unprecedented pace, the future of data science holds endless possibilities and promises to reshape industries across the globe. In this research article, we will explore the emerging trends, challenges, and opportunities that lie ahead in the ever-growing field of data science. By gaining insight into the future of data science, we can better prepare ourselves for the transformative impact it will have on society and the way we interact with data.', cost={'usage_including_cached_inference': {'total_cost': 0.00020050000000000002, 'gpt-3.5-turbo-0125': {'cost': 0.00020050000000000002, 'prompt_tokens': 56, 'completion_tokens': 115, 'total_tokens': 171}}, 'usage_excluding_cached_inference': {'total_cost': 0.00020050000000000002, 'gpt-3.5-turbo-0125': {'cost': 0.00020050000000000002, 'prompt_tokens': 56, 'completion_tokens': 115, 'total_tokens': 171}}}, human_input=[]).\", 'role': 'assistant', 'name': 'Student_Agent'}, {'content': 'Data science is a rapidly evolving field that has revolutionized the way businesses and organizations collect, analyze, and interpret data to make informed decisions. As technology continues to advance at an unprecedented pace, the future of data science holds endless possibilities and promises to reshape industries across the globe. In this research article, we will explore the emerging trends, challenges, and opportunities that lie ahead in the ever-growing field of data science. By gaining insight into the future of data science, we can better prepare ourselves for the transformative impact it will have on society and the way we interact with data.\\n\\nOne of the key emerging trends in the field of data science is the increasing focus on ethical considerations and responsible data practices. With the growing concern over data privacy and security, organizations are being pushed to adopt more transparent and ethical approaches to data collection and analysis. This shift towards ethical data usage is not only driven by regulatory requirements but also by consumer demands for more accountability and transparency from businesses.\\n\\nAnother important trend shaping the future of data science is the rise of automated machine learning (AutoML) tools. These tools are designed to streamline the process of building and deploying machine learning models, making it more accessible to a broader audience. As AutoML continues to advance, we can expect to see a democratization of data science, allowing individuals with varying levels of technical expertise to harness the power of machine learning for their specific needs.\\n\\nIn addition to these trends, the future of data science also presents a range of challenges that must be addressed. One of the primary challenges is the ongoing shortage of skilled data professionals. As the demand for data scientists and analysts continues to outpace the supply, organizations are struggling to find qualified individuals to fill critical roles in their data teams. Addressing this talent gap will be crucial for the continued growth and success of the field.\\n\\nMoreover, the increasing complexity and volume of data being generated pose a significant challenge for data scientists. With the advent of big data and the Internet of Things (IoT), organizations are inundated with vast amounts of data that must be effectively managed and analyzed. Data scientists will need to develop innovative solutions for handling and extracting valuable insights from this data deluge to drive meaningful business outcomes.\\n\\nDespite these challenges, the future of data science also presents numerous opportunities for innovation and advancement. One such opportunity lies in the realm of artificial intelligence (AI) and machine learning, where data scientists can leverage cutting-edge technologies to develop more sophisticated algorithms and models. By harnessing the power of AI, organizations can gain deeper insights from their data, automate decision-making processes, and unlock new possibilities for business growth and development.\\n\\nIn conclusion, the future of data science is brimming with potential and promise, offering exciting prospects for those working in the field. By staying abreast of emerging trends, overcoming challenges, and seizing opportunities for innovation, data scientists can play a pivotal role in shaping the future of technology and driving positive change across industries worldwide. As we continue to chart new territories in the realm of data science, the possibilities are truly limitless, and the impact on society is bound to be profound.', 'role': 'user', 'name': 'Body_Agent'}], summary='Data science is a rapidly evolving field that has revolutionized the way businesses and organizations collect, analyze, and interpret data to make informed decisions. As technology continues to advance at an unprecedented pace, the future of data science holds endless possibilities and promises to reshape industries across the globe. In this research article, we will explore the emerging trends, challenges, and opportunities that lie ahead in the ever-growing field of data science. By gaining insight into the future of data science, we can better prepare ourselves for the transformative impact it will have on society and the way we interact with data.\\n\\nOne of the key emerging trends in the field of data science is the increasing focus on ethical considerations and responsible data practices. With the growing concern over data privacy and security, organizations are being pushed to adopt more transparent and ethical approaches to data collection and analysis. This shift towards ethical data usage is not only driven by regulatory requirements but also by consumer demands for more accountability and transparency from businesses.\\n\\nAnother important trend shaping the future of data science is the rise of automated machine learning (AutoML) tools. These tools are designed to streamline the process of building and deploying machine learning models, making it more accessible to a broader audience. As AutoML continues to advance, we can expect to see a democratization of data science, allowing individuals with varying levels of technical expertise to harness the power of machine learning for their specific needs.\\n\\nIn addition to these trends, the future of data science also presents a range of challenges that must be addressed. One of the primary challenges is the ongoing shortage of skilled data professionals. As the demand for data scientists and analysts continues to outpace the supply, organizations are struggling to find qualified individuals to fill critical roles in their data teams. Addressing this talent gap will be crucial for the continued growth and success of the field.\\n\\nMoreover, the increasing complexity and volume of data being generated pose a significant challenge for data scientists. With the advent of big data and the Internet of Things (IoT), organizations are inundated with vast amounts of data that must be effectively managed and analyzed. Data scientists will need to develop innovative solutions for handling and extracting valuable insights from this data deluge to drive meaningful business outcomes.\\n\\nDespite these challenges, the future of data science also presents numerous opportunities for innovation and advancement. One such opportunity lies in the realm of artificial intelligence (AI) and machine learning, where data scientists can leverage cutting-edge technologies to develop more sophisticated algorithms and models. By harnessing the power of AI, organizations can gain deeper insights from their data, automate decision-making processes, and unlock new possibilities for business growth and development.\\n\\nIn conclusion, the future of data science is brimming with potential and promise, offering exciting prospects for those working in the field. By staying abreast of emerging trends, overcoming challenges, and seizing opportunities for innovation, data scientists can play a pivotal role in shaping the future of technology and driving positive change across industries worldwide. As we continue to chart new territories in the realm of data science, the possibilities are truly limitless, and the impact on society is bound to be profound.', cost={'usage_including_cached_inference': {'total_cost': 0.0011715, 'gpt-3.5-turbo-0125': {'cost': 0.0011715, 'prompt_tokens': 492, 'completion_tokens': 617, 'total_tokens': 1109}}, 'usage_excluding_cached_inference': {'total_cost': 0.0011715, 'gpt-3.5-turbo-0125': {'cost': 0.0011715, 'prompt_tokens': 492, 'completion_tokens': 617, 'total_tokens': 1109}}}, human_input=[]).\n",
      "\n",
      "--------------------------------------------------------------------------------\n",
      "\u001b[33mConclusion_Agent\u001b[0m (to Student_Agent):\n",
      "\n",
      "In conclusion, the future of data science is on a trajectory of unprecedented growth and innovation, with boundless opportunities for advancement and transformation. As highlighted in the discussion, the field is witnessing a shift towards ethical considerations, the rise of automated machine learning tools, and the ongoing challenge of a scarcity of skilled data professionals. Despite these hurdles, data scientists have the chance to leverage emerging trends, tackle challenges, and capitalize on opportunities to drive positive change and shape the landscape of technology worldwide.\n",
      "\n",
      "By embracing ethical practices, harnessing the power of AutoML, and addressing talent shortages, data scientists can propel the field forward and unlock its full potential. The convergence of artificial intelligence and machine learning offers a gateway to deeper insights, enhanced decision-making capabilities, and groundbreaking innovations. As data scientists navigate this dynamic landscape, they stand at the forefront of a revolution that promises to redefine industries, drive societal progress, and revolutionize the way we interact with data.\n",
      "\n",
      "In essence, the future of data science is a frontier brimming with possibilities, where proactive adaptation, ingenuity, and collaboration pave the way for a future where data-driven insights fuel unprecedented growth and change. As we venture further into this realm of endless possibilities, one thing remains certain – the impact of data science on society is poised to be profound and far-reaching.\n",
      "\n",
      "--------------------------------------------------------------------------------\n"
     ]
    }
   ],
   "source": [
    "topic = \"The future of Data Science.\"\n",
    "\n",
    "# Step 1: Student sends the topic to Introduction_Agent\n",
    "introduction_response = student_agent.initiate_chat(\n",
    "    recipient=introduction_agent,\n",
    "    message=f\"This is my topic: {topic}.\",\n",
    "    max_turns=1,\n",
    "    summary_method=\"last_msg\",\n",
    ")\n",
    "\n",
    "# Step 2: Student sends topic + introduction to Body_Agent\n",
    "body_response = student_agent.initiate_chat(\n",
    "    recipient=body_agent,\n",
    "    message=f\"This is my topic and introduction: {introduction_response}.\",\n",
    "    max_turns=1,\n",
    "    summary_method=\"last_msg\",\n",
    ")\n",
    "\n",
    "# Step 3: Student sends topic + introduction + body to Conclusion_Agent\n",
    "conclusion_response = student_agent.initiate_chat(\n",
    "    recipient=conclusion_agent,\n",
    "    message=f\"This is my topic, introduction, and body: {body_response}.\",\n",
    "    max_turns=1,\n",
    "    summary_method=\"last_msg\",\n",
    ")\n",
    "\n",
    "# Step 4: Combine the results\n",
    "chat_result = {\n",
    "    \"introduction\": introduction_response,\n",
    "    \"body\": body_response,\n",
    "    \"conclusion\": conclusion_response,\n",
    "}\n"
   ]
  },
  {
   "cell_type": "code",
   "execution_count": null,
   "metadata": {},
   "outputs": [],
   "source": []
  },
  {
   "cell_type": "markdown",
   "metadata": {},
   "source": [
    "# Group Chat"
   ]
  },
  {
   "cell_type": "markdown",
   "metadata": {},
   "source": [
    "## Teacher Agent"
   ]
  },
  {
   "cell_type": "code",
   "execution_count": 11,
   "metadata": {},
   "outputs": [],
   "source": [
    "teacher_agent = ConversableAgent(\n",
    "    name=\"Teacher_Agent\",\n",
    "    llm_config=llm_configs,\n",
    "    system_message=\"You are a music teacher. You will assign a topic to a group of students.\"\n",
    ")"
   ]
  },
  {
   "cell_type": "markdown",
   "metadata": {},
   "source": [
    "## Student agents"
   ]
  },
  {
   "cell_type": "code",
   "execution_count": 12,
   "metadata": {},
   "outputs": [],
   "source": [
    "intro_student = ConversableAgent(\n",
    "    name=\"Introduction_Student\",\n",
    "    system_message=\"You are a very good introduction writer. I will give you a topic, \" \n",
    "    \"please write an introduction for this topic.\",\n",
    "    llm_config=llm_configs,\n",
    "    human_input_mode=\"NEVER\",\n",
    ")\n",
    "\n",
    "body_student = ConversableAgent(\n",
    "    name=\"Body_Student\",\n",
    "    system_message=\"You are a very good body writer. I will give you a topic and an introduction, \" \n",
    "    \"please write a body for an article of that topic.\",\n",
    "    llm_config=llm_configs,\n",
    "    human_input_mode=\"NEVER\",\n",
    ")\n",
    "\n",
    "conclusion_student = ConversableAgent(\n",
    "    name=\"Conclusion_Student\",\n",
    "    system_message=\"You are a very good conclusion writer. I will give you a topic, an introduction and \" \n",
    "    \"abody, please write a conclusion for an article of that topic.\",\n",
    "    llm_config=llm_configs,\n",
    "    human_input_mode=\"NEVER\",\n",
    ")"
   ]
  },
  {
   "cell_type": "markdown",
   "metadata": {},
   "source": [
    "## Group Chat creating"
   ]
  },
  {
   "cell_type": "code",
   "execution_count": 13,
   "metadata": {},
   "outputs": [],
   "source": [
    "from autogen import GroupChat\n",
    "\n",
    "intro_student.description = \"Introduction writer\"\n",
    "body_student.description = \"Body writer\"\n",
    "conclusion_student.description = \"Conclusion writer\"\n",
    "\n",
    "group_chat = GroupChat(\n",
    "    agents=[intro_student, body_student, conclusion_student, teacher_agent],\n",
    "    messages=[],\n",
    "    max_round=4\n",
    ")"
   ]
  },
  {
   "cell_type": "code",
   "execution_count": 14,
   "metadata": {},
   "outputs": [],
   "source": [
    "from autogen import GroupChatManager\n",
    "\n",
    "group_chat_manager = GroupChatManager(\n",
    "    groupchat=group_chat,\n",
    "    llm_config=llm_configs\n",
    ")"
   ]
  },
  {
   "cell_type": "markdown",
   "metadata": {},
   "source": [
    "## Starting chat"
   ]
  },
  {
   "cell_type": "code",
   "execution_count": 15,
   "metadata": {},
   "outputs": [
    {
     "name": "stdout",
     "output_type": "stream",
     "text": [
      "\u001b[33mTeacher_Agent\u001b[0m (to chat_manager):\n",
      "\n",
      "Today's topic is Modal Interchange.\n",
      "\n",
      "--------------------------------------------------------------------------------\n",
      "\u001b[32m\n",
      "Next speaker: Introduction_Student\n",
      "\u001b[0m\n",
      "\u001b[33mIntroduction_Student\u001b[0m (to chat_manager):\n",
      "\n",
      "Modal interchange is a fascinating musical concept that adds depth and complexity to compositions. By blending chords and scales from different modes within a single piece of music, composers can create rich harmonic textures and evoke a wide range of emotions. In this discussion, we will explore the theory behind modal interchange, its historical context, and how it is used in various genres of music to create compelling and unique sounds. Join me as we delve into the world of modal interchange and discover the endless creative possibilities it offers to musicians and listeners alike.\n",
      "\n",
      "--------------------------------------------------------------------------------\n",
      "\u001b[32m\n",
      "Next speaker: Body_Student\n",
      "\u001b[0m\n",
      "\u001b[33mBody_Student\u001b[0m (to chat_manager):\n",
      "\n",
      "Modal interchange, also known as modal mixture or modal borrowing, is a musical technique that involves borrowing chords or scales from a different mode than the one currently being used in a piece of music. This concept allows composers to introduce new harmonic colors and textures, creating unexpected yet intriguing sounds. One common application of modal interchange is borrowing chords from the parallel minor or major key to add tension or color to a composition. For example, in a piece written in a major key, a composer may introduce a chord borrowed from the parallel minor key to create a sense of melancholy or mystery. Similarly, borrowing chords from a different mode within the same key can also produce interesting harmonic effects. Modal interchange is a versatile tool that can be found in various genres of music, from classical to jazz to pop. By understanding and utilizing this technique, composers can enhance the emotional depth and complexity of their musical creations, captivating listeners and pushing the boundaries of traditional harmony.\n",
      "\n",
      "--------------------------------------------------------------------------------\n",
      "\u001b[32m\n",
      "Next speaker: Conclusion_Student\n",
      "\u001b[0m\n",
      "\u001b[33mConclusion_Student\u001b[0m (to chat_manager):\n",
      "\n",
      "In conclusion, modal interchange is a powerful tool that enriches musical compositions by blending chords and scales from different modes. Through this technique, composers can create unique harmonic textures that evoke a wide range of emotions and add depth to their music. Whether borrowing chords from a parallel key or exploring different modes within the same key, modal interchange offers endless creative possibilities for musicians across various genres. By mastering this concept, composers can elevate their compositions to new heights, captivating listeners and pushing the boundaries of traditional harmony. As we continue to explore the world of music, embracing modal interchange opens up a world of creativity and innovation, enriching the musical landscape for both creators and audiences alike.\n",
      "\n",
      "--------------------------------------------------------------------------------\n"
     ]
    }
   ],
   "source": [
    "chat_result = teacher_agent.initiate_chat(\n",
    "    group_chat_manager,\n",
    "    message=\"Today's topic is Modal Interchange.\",\n",
    "    summary_method=\"reflection_with_llm\",\n",
    ")"
   ]
  },
  {
   "cell_type": "code",
   "execution_count": null,
   "metadata": {},
   "outputs": [],
   "source": []
  }
 ],
 "metadata": {
  "kernelspec": {
   "display_name": "DeepLearning",
   "language": "python",
   "name": "python3"
  },
  "language_info": {
   "codemirror_mode": {
    "name": "ipython",
    "version": 3
   },
   "file_extension": ".py",
   "mimetype": "text/x-python",
   "name": "python",
   "nbconvert_exporter": "python",
   "pygments_lexer": "ipython3",
   "version": "3.10.12"
  }
 },
 "nbformat": 4,
 "nbformat_minor": 2
}
